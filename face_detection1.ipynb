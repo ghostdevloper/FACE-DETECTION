{
 "cells": [
  {
   "cell_type": "markdown",
   "id": "e8354501",
   "metadata": {},
   "source": [
    "# python code for face detection "
   ]
  },
  {
   "cell_type": "code",
   "execution_count": 1,
   "id": "79d54150",
   "metadata": {},
   "outputs": [],
   "source": [
    "import cv2    # how does computer detect face \n",
    "              # ans__ it store the structure of face in the form of arrey//// \n",
    "                # WHAT DOES DOUBLE UNDERSCORE MEAN?\n",
    "        # why in grey\n",
    "        # multiscale"
   ]
  },
  {
   "cell_type": "code",
   "execution_count": 2,
   "id": "4ecba557",
   "metadata": {},
   "outputs": [],
   "source": [
    "import os"
   ]
  },
  {
   "cell_type": "code",
   "execution_count": 3,
   "id": "6b990faf",
   "metadata": {},
   "outputs": [],
   "source": [
    "cascPath = os.path.dirname(cv2.__file__) +\"/data/haarcascade_frontalface_default.xml\"\n",
    "faceCascade = cv2.CascadeClassifier(cascPath) \n",
    "video_capture = cv2.VideoCapture(0)\n",
    "\n",
    "while True:\n",
    "    ret, frames = video_capture.read()\n",
    "    gray = cv2.cvtColor(frames, cv2.COLOR_BGR2GRAY)\n",
    "    faces = faceCascade.detectMultiScale(gray,scaleFactor=1.1, minNeighbors=5,minSize=(30,30),flags= cv2.CASCADE_SCALE_IMAGE)\n",
    "    for (x, y, w, h) in faces:\n",
    "        cv2.rectangle(frames, (x, y), (x+w, y+h), (0,255,0),2)\n",
    "    cv2.imshow(\"aman\",frames)\n",
    "    if cv2.waitKey(1) & 0xFF== ord('q'):\n",
    "        break\n",
    "video_capture.release()\n",
    "cv2.destroyAllWindows()"
   ]
  },
  {
   "cell_type": "code",
   "execution_count": null,
   "id": "08af3e70",
   "metadata": {},
   "outputs": [],
   "source": []
  },
  {
   "cell_type": "code",
   "execution_count": null,
   "id": "8aea5558",
   "metadata": {},
   "outputs": [],
   "source": []
  }
 ],
 "metadata": {
  "kernelspec": {
   "display_name": "Python 3 (ipykernel)",
   "language": "python",
   "name": "python3"
  },
  "language_info": {
   "codemirror_mode": {
    "name": "ipython",
    "version": 3
   },
   "file_extension": ".py",
   "mimetype": "text/x-python",
   "name": "python",
   "nbconvert_exporter": "python",
   "pygments_lexer": "ipython3",
   "version": "3.10.9"
  }
 },
 "nbformat": 4,
 "nbformat_minor": 5
}
